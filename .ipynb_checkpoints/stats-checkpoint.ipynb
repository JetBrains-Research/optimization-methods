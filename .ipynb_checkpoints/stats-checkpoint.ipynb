{
 "cells": [
  {
   "cell_type": "code",
   "execution_count": 1,
   "metadata": {},
   "outputs": [
    {
     "name": "stdout",
     "output_type": "stream",
     "text": [
      "/home/anton/optimization-methods\r\n"
     ]
    }
   ],
   "source": [
    "!pwd"
   ]
  },
  {
   "cell_type": "code",
   "execution_count": 2,
   "metadata": {},
   "outputs": [
    {
     "name": "stdout",
     "output_type": "stream",
     "text": [
      "/home/anton/optimization-methods/embeddings-for-trees\n"
     ]
    }
   ],
   "source": [
    "%cd embeddings-for-trees"
   ]
  },
  {
   "cell_type": "code",
   "execution_count": 3,
   "metadata": {},
   "outputs": [
    {
     "name": "stderr",
     "output_type": "stream",
     "text": [
      "Using backend: pytorch\n"
     ]
    }
   ],
   "source": [
    "import os\n",
    "import torch\n",
    "# from dataset import PathContextDataModule\n",
    "from data_module.jsonl_data_module import JsonlDataModule\n",
    "from omegaconf import OmegaConf\n",
    "\n",
    "import matplotlib.pyplot as plt\n",
    "\n",
    "import json\n",
    "import pickle\n",
    "import itertools\n",
    "from collections import defaultdict\n",
    "import numpy as np\n",
    "\n",
    "from nltk import pos_tag\n",
    "from nltk.corpus import wordnet as wn\n",
    "from nltk.stem.wordnet import WordNetLemmatizer\n",
    "from nltk.stem import PorterStemmer\n",
    "\n",
    "from nltk.translate.meteor_score import single_meteor_score\n",
    "from nltk.translate.bleu_score import corpus_bleu, sentence_bleu\n",
    "from rouge import Rouge\n",
    "from bert_score import score as bert_score\n",
    "\n",
    "from scipy.stats import wilcoxon, mannwhitneyu"
   ]
  },
  {
   "cell_type": "code",
   "execution_count": 4,
   "metadata": {},
   "outputs": [],
   "source": [
    "tag_map = defaultdict(lambda : wn.NOUN)\n",
    "tag_map['J'] = wn.ADJ\n",
    "tag_map['V'] = wn.VERB\n",
    "tag_map['R'] = wn.ADV\n",
    "\n",
    "lemma_function = WordNetLemmatizer()\n",
    "porter = PorterStemmer()"
   ]
  },
  {
   "cell_type": "code",
   "execution_count": 5,
   "metadata": {},
   "outputs": [],
   "source": [
    "config = OmegaConf.load(\"config/tree_lstm_med_10per1.yaml\")"
   ]
  },
  {
   "cell_type": "code",
   "execution_count": 6,
   "metadata": {},
   "outputs": [
    {
     "name": "stdout",
     "output_type": "stream",
     "text": [
      "Dataset is already downloaded\n"
     ]
    }
   ],
   "source": [
    "data_module = JsonlDataModule(config)\n",
    "data_module.prepare_data()\n",
    "data_module.setup()"
   ]
  },
  {
   "cell_type": "code",
   "execution_count": 7,
   "metadata": {},
   "outputs": [],
   "source": [
    "id_to_label = data_module._vocabulary.id_to_label"
   ]
  },
  {
   "cell_type": "code",
   "execution_count": 8,
   "metadata": {},
   "outputs": [],
   "source": [
    "def preprocess(tokens, stem=True, lemmatize=False):\n",
    "    result = []\n",
    "    for token, tag in pos_tag(tokens):\n",
    "        if lemmatize:\n",
    "            result.append(lemma_function.lemmatize(token, tag_map[tag[0]]))\n",
    "        elif stem:\n",
    "            result.append(porter.stem(token))\n",
    "        else:\n",
    "            result.append(token)\n",
    "    return result"
   ]
  },
  {
   "cell_type": "code",
   "execution_count": 9,
   "metadata": {},
   "outputs": [],
   "source": [
    "def get_hyps_refs(predict_file = \"/home/anton/data/outputs/Lookahead_RAdam_standart_lr/tensor/Lookahead_RAdam_test_outputs.pkl\",\n",
    "                  use_first=10):\n",
    "    test_dataloader = data_module.test_dataloader()\n",
    "    predictions = torch.load(f\"{predict_file}\", map_location=torch.device('cpu'))\n",
    "\n",
    "    hyps = []; refs = []\n",
    "    \n",
    "    if use_first is None:\n",
    "        x = zip(predictions, test_dataloader)\n",
    "    else:\n",
    "        x = itertools.islice(zip(predictions, test_dataloader), use_first)\n",
    "    \n",
    "    for batch_our, batch_ref in x:\n",
    "        batch_ref = batch_ref[0]\n",
    "        for batch_idx in range(batch_our.size(1)):\n",
    "            res_our = []\n",
    "            res_ref = []\n",
    "            for idx in batch_our[:, batch_idx]:\n",
    "                if idx in [1, 3]:\n",
    "                    break\n",
    "                res_our.append(id_to_label[idx.item()])\n",
    "            for idx in batch_ref[:, batch_idx]:\n",
    "                if idx in [1, 3]:\n",
    "                    break\n",
    "                res_ref.append(id_to_label[idx.item()])\n",
    "\n",
    "            res_our = preprocess(res_our[1:], stem=False, lemmatize=True)\n",
    "            res_ref = preprocess(res_ref[1:], stem=False, lemmatize=True)\n",
    "            \n",
    "            if len(res_ref) > 0:\n",
    "                if len(res_our) == 0:\n",
    "                    res_our = ['xxx']\n",
    "                hyps.append(' '.join(res_our)); refs.append(' '.join(res_ref))\n",
    "\n",
    "    return hyps, refs"
   ]
  },
  {
   "cell_type": "code",
   "execution_count": 10,
   "metadata": {},
   "outputs": [],
   "source": [
    "class Metrics:\n",
    "    def __init__(self, hyps, refs):\n",
    "        self.hyps = hyps\n",
    "        self.refs = refs\n",
    "    \n",
    "    def get_statistics(self, with_symbolic=False):\n",
    "        result = {\n",
    "            'scores': {},\n",
    "            'score': {}\n",
    "        }\n",
    "        for func in dir(Metrics):\n",
    "            if callable(getattr(Metrics, func)) and func[0] != '_' and func != 'get_statistics':\n",
    "                if not with_symbolic and 'symb' in func:\n",
    "                    continue\n",
    "                metric_result = getattr(Metrics, func)(self)\n",
    "                result['scores'].update(metric_result['scores'])\n",
    "                result['score'].update(metric_result['score'])\n",
    "    \n",
    "        return result\n",
    "    \n",
    "    def bert(self):\n",
    "        (P, R, F), hashname = bert_score(self.hyps, self.refs, lang=\"en\", return_hash=True)\n",
    "        return {\n",
    "            'scores': {\n",
    "                'bert-P': P.cpu().detach().numpy(),\n",
    "                'bert-R': R.cpu().detach().numpy(),\n",
    "                'bert-F': F.cpu().detach().numpy()\n",
    "            },\n",
    "            'score': {\n",
    "                'bert-P': P.mean().item(),\n",
    "                'bert-R': R.mean().item(),\n",
    "                'bert-F': F.mean().item()\n",
    "            }\n",
    "        }\n",
    "    \n",
    "    def meteor(self):\n",
    "        scores = []\n",
    "        for hyp, ref in zip(self.hyps, self.refs):\n",
    "            scores.append(single_meteor_score(ref, hyp))\n",
    "        \n",
    "        return {\n",
    "            'scores': {\n",
    "                'meteor': np.array(scores)\n",
    "            },\n",
    "            'score': {\n",
    "                'meteor': np.mean(scores)\n",
    "            }\n",
    "        }\n",
    "\n",
    "    def bleu(self):\n",
    "        scores = []\n",
    "        for hyp, ref in zip(self.hyps, self.refs):\n",
    "            scores.append(sentence_bleu([ref], hyp))\n",
    "        \n",
    "        return {\n",
    "            'scores': {\n",
    "                'bleu': np.array(scores)\n",
    "            },\n",
    "            'score': {\n",
    "                'bleu': corpus_bleu([[ref] for ref in self.refs], self.hyps)\n",
    "            }\n",
    "        }\n",
    "    \n",
    "    def symb_rouge_l(self):\n",
    "        rouge = Rouge(metrics=['rouge-l'])\n",
    "        scores_dict = defaultdict(list)\n",
    "        \n",
    "        hyps_symb = [' '.join(h.replace(' ', '')) for h in hyps]\n",
    "        refs_symb = [' '.join(r.replace(' ', '')) for r in refs]\n",
    "\n",
    "        scores = rouge.get_scores(hyps_symb, refs_symb)\n",
    "        for score in scores:\n",
    "            batch = {}\n",
    "            for sub in score:\n",
    "                batch.update({sub + k.upper(): v for k, v in score[sub].items()})\n",
    "\n",
    "            for title in batch:\n",
    "                scores_dict['symb-' + title].append(batch[title])\n",
    "\n",
    "        scores_dict = dict(scores_dict)\n",
    "        score_dict = {}\n",
    "        for title in scores_dict:\n",
    "            scores_dict[title] = np.array(scores_dict[title])\n",
    "            score_dict[title] = scores_dict[title].mean()\n",
    "        \n",
    "        return {\n",
    "            'scores': scores_dict,\n",
    "            'score': score_dict\n",
    "        }\n",
    "    \n",
    "    def rouge(self):\n",
    "        rouge = Rouge()\n",
    "        scores_dict = defaultdict(list)\n",
    "\n",
    "        scores = rouge.get_scores(hyps, refs)\n",
    "        for score in scores:\n",
    "            batch = {}\n",
    "            for sub in score:\n",
    "                batch.update({sub + k.upper(): v for k, v in score[sub].items()})\n",
    "\n",
    "            for title in batch:\n",
    "                scores_dict[title].append(batch[title])\n",
    "\n",
    "        scores_dict = dict(scores_dict)\n",
    "        score_dict = {}\n",
    "        for title in scores_dict:\n",
    "            scores_dict[title] = np.array(scores_dict[title])\n",
    "            score_dict[title] = scores_dict[title].mean()\n",
    "        \n",
    "        return {\n",
    "            'scores': scores_dict,\n",
    "            'score': score_dict\n",
    "        }"
   ]
  },
  {
   "cell_type": "markdown",
   "metadata": {},
   "source": [
    "## Symbolic scores"
   ]
  },
  {
   "cell_type": "code",
   "execution_count": 11,
   "metadata": {},
   "outputs": [],
   "source": [
    "DATA_DIR = \"/home/anton/data/outputs/\""
   ]
  },
  {
   "cell_type": "code",
   "execution_count": 14,
   "metadata": {},
   "outputs": [],
   "source": [
    "hyps, refs = get_hyps_refs(predict_file=DATA_DIR + \"SGD_global/tensor/sgd_global_predictions.pkl\")"
   ]
  },
  {
   "cell_type": "code",
   "execution_count": 15,
   "metadata": {},
   "outputs": [
    {
     "data": {
      "application/vnd.jupyter.widget-view+json": {
       "model_id": "2078aee258d54c9481d48ce60975f5b0",
       "version_major": 2,
       "version_minor": 0
      },
      "text/plain": [
       "Downloading:   0%|          | 0.00/482 [00:00<?, ?B/s]"
      ]
     },
     "metadata": {},
     "output_type": "display_data"
    },
    {
     "data": {
      "application/vnd.jupyter.widget-view+json": {
       "model_id": "6342f297a85e40a2814cef348045e43a",
       "version_major": 2,
       "version_minor": 0
      },
      "text/plain": [
       "Downloading:   0%|          | 0.00/899k [00:00<?, ?B/s]"
      ]
     },
     "metadata": {},
     "output_type": "display_data"
    },
    {
     "data": {
      "application/vnd.jupyter.widget-view+json": {
       "model_id": "3b522571561342daa47a8c94312a0f25",
       "version_major": 2,
       "version_minor": 0
      },
      "text/plain": [
       "Downloading:   0%|          | 0.00/456k [00:00<?, ?B/s]"
      ]
     },
     "metadata": {},
     "output_type": "display_data"
    },
    {
     "data": {
      "application/vnd.jupyter.widget-view+json": {
       "model_id": "3955a6a306b64fd68ec6a3847cc91dd2",
       "version_major": 2,
       "version_minor": 0
      },
      "text/plain": [
       "Downloading:   0%|          | 0.00/1.43G [00:00<?, ?B/s]"
      ]
     },
     "metadata": {},
     "output_type": "display_data"
    },
    {
     "name": "stderr",
     "output_type": "stream",
     "text": [
      "/home/anton/opt-met-exps/lib/python3.8/site-packages/nltk/translate/bleu_score.py:516: UserWarning: \n",
      "The hypothesis contains 0 counts of 3-gram overlaps.\n",
      "Therefore the BLEU score evaluates to 0, independently of\n",
      "how many N-gram overlaps of lower order it contains.\n",
      "Consider using lower n-gram order or use SmoothingFunction()\n",
      "  warnings.warn(_msg)\n",
      "/home/anton/opt-met-exps/lib/python3.8/site-packages/nltk/translate/bleu_score.py:516: UserWarning: \n",
      "The hypothesis contains 0 counts of 4-gram overlaps.\n",
      "Therefore the BLEU score evaluates to 0, independently of\n",
      "how many N-gram overlaps of lower order it contains.\n",
      "Consider using lower n-gram order or use SmoothingFunction()\n",
      "  warnings.warn(_msg)\n",
      "/home/anton/opt-met-exps/lib/python3.8/site-packages/nltk/translate/bleu_score.py:516: UserWarning: \n",
      "The hypothesis contains 0 counts of 2-gram overlaps.\n",
      "Therefore the BLEU score evaluates to 0, independently of\n",
      "how many N-gram overlaps of lower order it contains.\n",
      "Consider using lower n-gram order or use SmoothingFunction()\n",
      "  warnings.warn(_msg)\n"
     ]
    }
   ],
   "source": [
    "metrics = Metrics(hyps, refs)\n",
    "symb_metrics = metrics.get_statistics(with_symbolic=True)"
   ]
  },
  {
   "cell_type": "code",
   "execution_count": 16,
   "metadata": {},
   "outputs": [
    {
     "data": {
      "text/plain": [
       "(array([182., 189., 438., 463., 285., 192.,  56.,  47.,  28.,   2.]),\n",
       " array([0.        , 0.08333333, 0.16666667, 0.25      , 0.33333333,\n",
       "        0.41666666, 0.5       , 0.58333333, 0.66666666, 0.75      ,\n",
       "        0.83333333]),\n",
       " <BarContainer object of 10 artists>)"
      ]
     },
     "execution_count": 16,
     "metadata": {},
     "output_type": "execute_result"
    },
    {
     "data": {
      "image/png": "[encoded data removed]",
      "text/plain": [
       "<Figure size 432x288 with 1 Axes>"
      ]
     },
     "metadata": {
      "needs_background": "light"
     },
     "output_type": "display_data"
    }
   ],
   "source": [
    "plt.hist(symb_metrics['scores']['symb-rouge-lF'][symb_metrics['scores']['meteor'] < 1e-1])"
   ]
  },
  {
   "cell_type": "code",
   "execution_count": 17,
   "metadata": {},
   "outputs": [],
   "source": [
    "specific = ((symb_metrics['scores']['meteor'] < 1e-1) * (symb_metrics['scores']['symb-rouge-lF'] > 0.6)).nonzero()"
   ]
  },
  {
   "cell_type": "code",
   "execution_count": 18,
   "metadata": {},
   "outputs": [
    {
     "name": "stdout",
     "output_type": "stream",
     "text": [
      "threshold: 0.6\n",
      "count: 54\n",
      "\n",
      "meteor: 0.0\n",
      "symb. rouge-lF: 0.7142857093877552\n",
      "hyp: set on listener listener listener listener listener , ref: register\n",
      "\n",
      "meteor: 0.0\n",
      "symb. rouge-lF: 0.6666666618055556\n",
      "hyp: on intent intent , ref: open file\n",
      "\n",
      "meteor: 0.0\n",
      "symb. rouge-lF: 0.7142857093877552\n",
      "hyp: set on listener listener listener listener listener , ref: register\n",
      "\n",
      "meteor: 0.0\n",
      "symb. rouge-lF: 0.6249999953125001\n",
      "hyp: add on listener listener , ref: register\n",
      "\n",
      "meteor: 0.0\n",
      "symb. rouge-lF: 0.6666666618055556\n",
      "hyp: on intent intent , ref: open file\n",
      "\n",
      "meteor: 0.0\n",
      "symb. rouge-lF: 0.6249999953125001\n",
      "hyp: add on listener listener , ref: register\n",
      "\n",
      "meteor: 0.0\n",
      "symb. rouge-lF: 0.6153846106508877\n",
      "hyp: on listener listener listener listener listener listener , ref: init event\n",
      "\n",
      "meteor: 0.0\n",
      "symb. rouge-lF: 0.6153846106508877\n",
      "hyp: on listener listener listener listener listener listener , ref: init event\n",
      "\n",
      "meteor: 0.0\n",
      "symb. rouge-lF: 0.6666666617283951\n",
      "hyp: reset , ref: set go\n",
      "\n",
      "meteor: 0.0\n",
      "symb. rouge-lF: 0.6153846106508877\n",
      "hyp: on listener listener listener listener listener listener , ref: init event\n",
      "\n",
      "meteor: 0.0\n",
      "symb. rouge-lF: 0.6153846106508877\n",
      "hyp: on listener listener listener listener listener listener , ref: init event\n",
      "\n",
      "meteor: 0.0\n",
      "symb. rouge-lF: 0.6153846106508877\n",
      "hyp: on listener listener listener listener listener listener , ref: init event\n",
      "\n",
      "meteor: 0.0\n",
      "symb. rouge-lF: 0.7499999953125\n",
      "hyp: set , ref: select\n",
      "\n",
      "meteor: 0.0\n",
      "symb. rouge-lF: 0.6666666617283951\n",
      "hyp: reset , ref: set go\n",
      "\n",
      "meteor: 0.0\n",
      "symb. rouge-lF: 0.7499999953125\n",
      "hyp: set , ref: select\n",
      "\n",
      "meteor: 0.0\n",
      "symb. rouge-lF: 0.6153846106508877\n",
      "hyp: on listener listener listener listener listener listener , ref: init event\n",
      "\n",
      "meteor: 0.0\n",
      "symb. rouge-lF: 0.6153846106508877\n",
      "hyp: on listener listener , ref: init event\n",
      "\n",
      "meteor: 0.0\n",
      "symb. rouge-lF: 0.6153846106508877\n",
      "hyp: on listener listener , ref: init event\n",
      "\n",
      "meteor: 0.0\n",
      "symb. rouge-lF: 0.6666666622222223\n",
      "hyp: stop stop , ref: on swipe top\n",
      "\n",
      "meteor: 0.0\n",
      "symb. rouge-lF: 0.6666666622222223\n",
      "hyp: set , ref: reset offset\n",
      "\n",
      "meteor: 0.0\n",
      "symb. rouge-lF: 0.7499999953125\n",
      "hyp: set , ref: setup\n",
      "\n",
      "meteor: 0.0\n",
      "symb. rouge-lF: 0.7499999953125\n",
      "hyp: set , ref: setup\n",
      "\n",
      "meteor: 0.0\n",
      "symb. rouge-lF: 0.7499999953125\n",
      "hyp: set , ref: setup\n",
      "\n",
      "meteor: 0.08928571428571427\n",
      "symb. rouge-lF: 0.6666666622222223\n",
      "hyp: init parent , ref: build parent layer list if need\n",
      "\n",
      "meteor: 0.0\n",
      "symb. rouge-lF: 0.6666666618666668\n",
      "hyp: create test , ref: agent certificate\n",
      "\n",
      "meteor: 0.0\n",
      "symb. rouge-lF: 0.7499999953125\n",
      "hyp: set , ref: setup\n",
      "\n",
      "meteor: 0.0\n",
      "symb. rouge-lF: 0.8333333283333335\n",
      "hyp: get status , ref: agent state\n",
      "\n",
      "meteor: 0.07575757575757576\n",
      "symb. rouge-lF: 0.6086956472589792\n",
      "hyp: test throw locale , ref: should return locale for the current thread\n",
      "\n",
      "meteor: 0.0\n",
      "symb. rouge-lF: 0.7499999953125\n",
      "hyp: set , ref: setup\n",
      "\n",
      "meteor: 0.0\n",
      "symb. rouge-lF: 0.7499999953125\n",
      "hyp: set , ref: setup\n",
      "\n",
      "meteor: 0.08620689655172413\n",
      "symb. rouge-lF: 0.7999999952000001\n",
      "hyp: test return configuration configuration , ref: should check for equality for configuration\n",
      "\n",
      "meteor: 0.0\n",
      "symb. rouge-lF: 0.7499999953125\n",
      "hyp: set , ref: setup\n",
      "\n",
      "meteor: 0.09803921568627452\n",
      "symb. rouge-lF: 0.6923076873076923\n",
      "hyp: should not not not same with , ref: should include when the text\n",
      "\n",
      "meteor: 0.0\n",
      "symb. rouge-lF: 0.7499999953125\n",
      "hyp: set , ref: setup\n",
      "\n",
      "meteor: 0.0\n",
      "symb. rouge-lF: 0.7499999953125\n",
      "hyp: set , ref: setup\n",
      "\n",
      "meteor: 0.0\n",
      "symb. rouge-lF: 0.7499999953125\n",
      "hyp: set , ref: setup\n",
      "\n",
      "meteor: 0.07142857142857142\n",
      "symb. rouge-lF: 0.6896551677051131\n",
      "hyp: test not valid valid not be not , ref: should be invalid if message be empty\n",
      "\n",
      "meteor: 0.0\n",
      "symb. rouge-lF: 0.7499999953125\n",
      "hyp: set , ref: setup\n",
      "\n",
      "meteor: 0.0\n",
      "symb. rouge-lF: 0.7499999953125\n",
      "hyp: set , ref: setup\n",
      "\n",
      "meteor: 0.07692307692307691\n",
      "symb. rouge-lF: 0.6666666622222223\n",
      "hyp: test should , ref: agent with no ip address should be\n",
      "\n",
      "meteor: 0.0\n",
      "symb. rouge-lF: 0.639999995392\n",
      "hyp: test not identifier , ref: should contain counter if stage have rerun\n",
      "\n",
      "meteor: 0.0\n",
      "symb. rouge-lF: 0.7499999953125\n",
      "hyp: set , ref: setup\n",
      "\n",
      "meteor: 0.0\n",
      "symb. rouge-lF: 0.7499999953125\n",
      "hyp: set , ref: setup\n",
      "\n",
      "meteor: 0.0\n",
      "symb. rouge-lF: 0.7499999953125\n",
      "hyp: set , ref: setup\n",
      "\n",
      "meteor: 0.0\n",
      "symb. rouge-lF: 0.6206896503210465\n",
      "hyp: test return service config config config config , ref: should provide set of schedulable material\n",
      "\n",
      "meteor: 0.0\n",
      "symb. rouge-lF: 0.7499999953125\n",
      "hyp: set , ref: setup\n",
      "\n",
      "meteor: 0.0\n",
      "symb. rouge-lF: 0.6666666617283951\n",
      "hyp: send , ref: append\n",
      "\n",
      "meteor: 0.0\n",
      "symb. rouge-lF: 0.7499999953125\n",
      "hyp: set , ref: setup\n",
      "\n",
      "meteor: 0.0\n",
      "symb. rouge-lF: 0.7499999953125\n",
      "hyp: set , ref: setup\n",
      "\n",
      "meteor: 0.0\n",
      "symb. rouge-lF: 0.6666666622222223\n",
      "hyp: tear , ref: teardown\n",
      "\n",
      "meteor: 0.0\n",
      "symb. rouge-lF: 0.7499999953125\n",
      "hyp: set , ref: setup\n",
      "\n",
      "meteor: 0.0\n",
      "symb. rouge-lF: 0.7499999953125\n",
      "hyp: set , ref: setup\n",
      "\n",
      "meteor: 0.0\n",
      "symb. rouge-lF: 0.7499999953125\n",
      "hyp: set , ref: setup\n",
      "\n",
      "meteor: 0.0\n",
      "symb. rouge-lF: 0.7499999953125\n",
      "hyp: set , ref: setup\n",
      "\n"
     ]
    }
   ],
   "source": [
    "print('threshold:', 0.6)\n",
    "print('count:', specific[0].shape[0])\n",
    "print()\n",
    "\n",
    "for s in specific[0]:\n",
    "    print('meteor:', symb_metrics['scores']['meteor'][s])\n",
    "    print('symb. rouge-lF:', symb_metrics['scores']['symb-rouge-lF'][s])\n",
    "    print('hyp:', hyps[s], ', ref:', refs[s])\n",
    "    print()"
   ]
  },
  {
   "cell_type": "markdown",
   "metadata": {},
   "source": [
    "## Methods reports"
   ]
  },
  {
   "cell_type": "code",
   "execution_count": 166,
   "metadata": {},
   "outputs": [],
   "source": [
    "global_methods = [\n",
    "    ('Adam', 'adam_global_predictions.pkl'),\n",
    "#     ('Cyclic SGD', './outputs/global_Cycle_SGD_test_outputs.pkl'),\n",
    "    ('Lamb', 'Lamb_global_predictions.pkl'),\n",
    "    ('LaRAdam', 'Lookahead_Radam_standart_lr/tensor/Lookahead_RAdam_test_outputs.pkl'),\n",
    "#     ('LaAdam', './outputs/global_Lookahead_test_outputs.pkl'),\n",
    "    ('RAdam', 'RAdam_global/tensor/RAdam_test_outputs.pkl'),\n",
    "    ('SGD', './SGD_global/est_outputs.pkl')\n",
    "]"
   ]
  },
  {
   "cell_type": "code",
   "execution_count": null,
   "metadata": {},
   "outputs": [],
   "source": [
    "if os.path.isfile('global_methods_report.data'):\n",
    "\n",
    "    with open('global_methods_report.data', 'rb') as fp:\n",
    "        global_methods_report = pickle.load(fp)\n",
    "\n",
    "else:\n",
    "    global_methods_report = {}\n",
    "\n",
    "    for method, path in global_methods:\n",
    "        hyps, refs = get_hyps_refs(predict_file=path, use_first=None)\n",
    "        metrics = Metrics(hyps, refs)\n",
    "        global_methods_report[method] = metrics.get_statistics()\n",
    "        print(method, global_methods_report[method])\n",
    "\n",
    "    with open('global_methods_report.data', 'wb') as fp:\n",
    "        pickle.dump(global_methods_report, fp)"
   ]
  },
  {
   "cell_type": "code",
   "execution_count": 16,
   "metadata": {},
   "outputs": [],
   "source": [
    "local_methods = [\n",
    "    ('A2GradExp', './outputs/local_A2GradExp_test_outputs.pkl'),\n",
    "    ('Adadelta', './outputs/local_Adadelta_test_outputs.pkl'),\n",
    "    ('Barzilai-Borwein', './outputs/local_BB_test_outputs.pkl'),\n",
    "    ('LaAdam', './outputs/local_Lookahead_test_outputs.pkl'),\n",
    "    ('RAdam', './outputs/local_RAdam_test_outputs.pkl'),\n",
    "    ('SVRG', './outputs/local_SVRG_test_outputs.pkl'),\n",
    "    ('SWA', './outputs/local_SWA_test_outputs.pkl'),\n",
    "]"
   ]
  },
  {
   "cell_type": "code",
   "execution_count": null,
   "metadata": {},
   "outputs": [],
   "source": [
    "if os.path.isfile('local_methods_report.data'):\n",
    "\n",
    "    with open('local_methods_report.data', 'rb') as fp:\n",
    "        local_methods_report = pickle.load(fp)\n",
    "\n",
    "else:\n",
    "    local_methods_report = {}\n",
    "\n",
    "    for method, path in local_methods:\n",
    "        hyps, refs = get_hyps_refs(predict_file=path, use_first=None)\n",
    "        metrics = Metrics(hyps, refs)\n",
    "        local_methods_report[method] = metrics.get_statistics()\n",
    "        print(method, local_methods_report[method])\n",
    "\n",
    "    with open('local_methods_report.data', 'wb') as fp:\n",
    "        pickle.dump(local_methods_report, fp)"
   ]
  },
  {
   "cell_type": "code",
   "execution_count": null,
   "metadata": {},
   "outputs": [],
   "source": [
    "for method in global_methods_report:\n",
    "    print(method, global_methods_report[method]['score'])\n",
    "    print()"
   ]
  },
  {
   "cell_type": "code",
   "execution_count": null,
   "metadata": {
    "scrolled": true
   },
   "outputs": [],
   "source": [
    "for method1, method2 in itertools.combinations(global_methods_report, 2):\n",
    "    print(method1, '-', method2)\n",
    "    for score in global_methods_report[method1]['score']:\n",
    "        print(score, end=' ')\n",
    "        h1 = None\n",
    "        if global_methods_report[method1]['score'][score] > global_methods_report[method2]['score'][score]:\n",
    "            pc = round(100 * (global_methods_report[method1]['score'][score] - global_methods_report[method2]['score'][score]) / global_methods_report[method2]['score'][score], 0)\n",
    "            print('>', f'({pc}%)', end=' ')\n",
    "            h1 = 'less'\n",
    "        else:\n",
    "            pc = round(100 * (global_methods_report[method2]['score'][score] - global_methods_report[method1]['score'][score]) / global_methods_report[method2]['score'][score], 0)\n",
    "            print('<', f'({pc}%)', end=' ')\n",
    "            h1 = 'greater'\n",
    "            \n",
    "        print()\n",
    "        w, p = wilcoxon(\n",
    "            global_methods_report[method1]['scores'][score],\n",
    "            global_methods_report[method2]['scores'][score],\n",
    "            alternative=h1\n",
    "        )\n",
    "        print('wilcoxon signed-rank: w =', round(int(w), -4), ', p =', p)\n",
    "        \n",
    "        s, p = mannwhitneyu(\n",
    "            global_methods_report[method1]['scores'][score],\n",
    "            global_methods_report[method2]['scores'][score],\n",
    "            alternative=h1\n",
    "        )\n",
    "        print('mann-whitneyu: s =', round(int(s), -5), ', p =', p)\n",
    "        \n",
    "        print()\n",
    "    print()"
   ]
  },
  {
   "cell_type": "code",
   "execution_count": null,
   "metadata": {},
   "outputs": [],
   "source": []
  }
 ],
 "metadata": {
  "kernelspec": {
   "display_name": "met-opt-exps",
   "language": "python",
   "name": "met-opt-exps"
  },
  "language_info": {
   "codemirror_mode": {
    "name": "ipython",
    "version": 3
   },
   "file_extension": ".py",
   "mimetype": "text/x-python",
   "name": "python",
   "nbconvert_exporter": "python",
   "pygments_lexer": "ipython3",
   "version": "3.8.5"
  }
 },
 "nbformat": 4,
 "nbformat_minor": 4
}
