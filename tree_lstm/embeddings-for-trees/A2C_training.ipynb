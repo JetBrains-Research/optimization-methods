{
 "cells": [
  {
   "cell_type": "code",
   "execution_count": 1,
   "id": "fatal-population",
   "metadata": {},
   "outputs": [
    {
     "name": "stderr",
     "output_type": "stream",
     "text": [
      "Using backend: pytorch\n"
     ]
    }
   ],
   "source": [
    "import os\n",
    "from A2C import Actor, Critic, a2c\n",
    "from data_module.jsonl_data_module import JsonlDataModule\n",
    "from omegaconf import OmegaConf"
   ]
  },
  {
   "cell_type": "code",
   "execution_count": 2,
   "id": "promotional-christmas",
   "metadata": {},
   "outputs": [],
   "source": [
    "path_to_pretrained = \"../data/checkpoints/epoch=06-val_loss=11.2446.ckpt\""
   ]
  },
  {
   "cell_type": "code",
   "execution_count": 3,
   "id": "combined-restoration",
   "metadata": {},
   "outputs": [],
   "source": [
    "config = OmegaConf.load(\"config/tree_lstm_med_10per1_a2c.yaml\")"
   ]
  },
  {
   "cell_type": "code",
   "execution_count": 4,
   "id": "powerful-combine",
   "metadata": {},
   "outputs": [
    {
     "name": "stdout",
     "output_type": "stream",
     "text": [
      "Dataset is already downloaded\n"
     ]
    }
   ],
   "source": [
    "data_module = JsonlDataModule(config)\n",
    "data_module.prepare_data()\n",
    "data_module.setup()"
   ]
  },
  {
   "cell_type": "code",
   "execution_count": 5,
   "id": "competitive-development",
   "metadata": {},
   "outputs": [],
   "source": [
    "actor = Actor(config, data_module.vocabulary, path_to_pretrained)"
   ]
  },
  {
   "cell_type": "code",
   "execution_count": 6,
   "id": "twelve-handbook",
   "metadata": {},
   "outputs": [],
   "source": [
    "train_params = {\n",
    "    'seed': 0,\n",
    "    'epochs': 1,\n",
    "    'state_dim': 320,\n",
    "    'max_tree_size': 228,\n",
    "    'critic_pretraining': {\n",
    "        'epochs': 1,\n",
    "    },\n",
    "    'actor_lr': 3e-4,\n",
    "    'critic_lr': 1e-4,\n",
    "    'output_length': 8,\n",
    "    'GAMMA': 0.99,\n",
    "    \n",
    "}"
   ]
  },
  {
   "cell_type": "code",
   "execution_count": 7,
   "id": "everyday-fourth",
   "metadata": {},
   "outputs": [],
   "source": [
    "import torch"
   ]
  },
  {
   "cell_type": "code",
   "execution_count": 8,
   "id": "surprising-observer",
   "metadata": {},
   "outputs": [
    {
     "data": {
      "text/plain": [
       "<torch.autograd.anomaly_mode.set_detect_anomaly at 0x7fa67c5ee250>"
      ]
     },
     "execution_count": 8,
     "metadata": {},
     "output_type": "execute_result"
    }
   ],
   "source": [
    "torch.autograd.set_detect_anomaly(True)"
   ]
  },
  {
   "cell_type": "code",
   "execution_count": 9,
   "id": "smooth-navigation",
   "metadata": {},
   "outputs": [
    {
     "name": "stdout",
     "output_type": "stream",
     "text": [
      "Dataset is already downloaded\n"
     ]
    },
    {
     "ename": "KeyError",
     "evalue": "'epoches'",
     "output_type": "error",
     "traceback": [
      "\u001B[0;31m---------------------------------------------------------------------------\u001B[0m",
      "\u001B[0;31mKeyError\u001B[0m                                  Traceback (most recent call last)",
      "\u001B[0;32m<ipython-input-9-0f5b3785d916>\u001B[0m in \u001B[0;36m<module>\u001B[0;34m\u001B[0m\n\u001B[0;32m----> 1\u001B[0;31m \u001B[0ma2c\u001B[0m\u001B[0;34m(\u001B[0m\u001B[0mpath_to_pretrained\u001B[0m\u001B[0;34m,\u001B[0m \u001B[0mconfig\u001B[0m\u001B[0;34m,\u001B[0m \u001B[0mtrain_params\u001B[0m\u001B[0;34m)\u001B[0m\u001B[0;34m\u001B[0m\u001B[0;34m\u001B[0m\u001B[0m\n\u001B[0m",
      "\u001B[0;32m~/optimization-methods/embeddings-for-trees/A2C.py\u001B[0m in \u001B[0;36ma2c\u001B[0;34m(path_to_pretrained, config, train_params)\u001B[0m\n\u001B[1;32m     96\u001B[0m     \u001B[0mentropy_term\u001B[0m \u001B[0;34m=\u001B[0m \u001B[0;36m0\u001B[0m\u001B[0;34m\u001B[0m\u001B[0;34m\u001B[0m\u001B[0m\n\u001B[1;32m     97\u001B[0m \u001B[0;34m\u001B[0m\u001B[0m\n\u001B[0;32m---> 98\u001B[0;31m     \u001B[0;32mfor\u001B[0m \u001B[0mepoch\u001B[0m \u001B[0;32min\u001B[0m \u001B[0mrange\u001B[0m\u001B[0;34m(\u001B[0m\u001B[0mtrain_params\u001B[0m\u001B[0;34m[\u001B[0m\u001B[0;34m'epoches'\u001B[0m\u001B[0;34m]\u001B[0m\u001B[0;34m)\u001B[0m\u001B[0;34m:\u001B[0m\u001B[0;34m\u001B[0m\u001B[0;34m\u001B[0m\u001B[0m\n\u001B[0m\u001B[1;32m     99\u001B[0m         \u001B[0;32mfor\u001B[0m \u001B[0mstep\u001B[0m\u001B[0;34m,\u001B[0m \u001B[0;34m(\u001B[0m\u001B[0mlabels\u001B[0m\u001B[0;34m,\u001B[0m \u001B[0mbatched_trees\u001B[0m\u001B[0;34m)\u001B[0m \u001B[0;32min\u001B[0m \u001B[0menumerate\u001B[0m\u001B[0;34m(\u001B[0m\u001B[0mdata_module\u001B[0m\u001B[0;34m.\u001B[0m\u001B[0mtrain_dataloader\u001B[0m\u001B[0;34m(\u001B[0m\u001B[0;34m)\u001B[0m\u001B[0;34m)\u001B[0m\u001B[0;34m:\u001B[0m\u001B[0;34m\u001B[0m\u001B[0;34m\u001B[0m\u001B[0m\n\u001B[1;32m    100\u001B[0m             \u001B[0mlog_probs\u001B[0m\u001B[0;34m,\u001B[0m \u001B[0mvalues\u001B[0m\u001B[0;34m,\u001B[0m \u001B[0mrewards\u001B[0m \u001B[0;34m=\u001B[0m \u001B[0;34m[\u001B[0m\u001B[0;34m]\u001B[0m\u001B[0;34m,\u001B[0m \u001B[0;34m[\u001B[0m\u001B[0;34m]\u001B[0m\u001B[0;34m,\u001B[0m \u001B[0;34m[\u001B[0m\u001B[0;34m]\u001B[0m\u001B[0;34m\u001B[0m\u001B[0;34m\u001B[0m\u001B[0m\n",
      "\u001B[0;31mKeyError\u001B[0m: 'epoches'"
     ]
    }
   ],
   "source": [
    "a2c(path_to_pretrained, config, train_params)"
   ]
  }
 ],
 "metadata": {
  "kernelspec": {
   "display_name": "met-opt-exps",
   "language": "python",
   "name": "met-opt-exps"
  },
  "language_info": {
   "codemirror_mode": {
    "name": "ipython",
    "version": 3
   },
   "file_extension": ".py",
   "mimetype": "text/x-python",
   "name": "python",
   "nbconvert_exporter": "python",
   "pygments_lexer": "ipython3",
   "version": "3.8.10"
  }
 },
 "nbformat": 4,
 "nbformat_minor": 5
}