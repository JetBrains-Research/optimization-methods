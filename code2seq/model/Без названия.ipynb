{
 "cells": [
  {
   "cell_type": "code",
   "execution_count": 1,
   "metadata": {},
   "outputs": [],
   "source": [
    "import numpy as np"
   ]
  },
  {
   "cell_type": "code",
   "execution_count": 16,
   "metadata": {},
   "outputs": [],
   "source": [
    "hypotheses = [\n",
    "    'how are you\\ni am fine'.split(),  # document 1: hypothesis\n",
    "    'it is fine today\\nwe won the football game'.split(),  # document 2: hypothesis\n",
    "]\n",
    "\n",
    "references = [[\n",
    "    'how do you do\\nfine thanks'.split(),  # document 1: reference 1\n",
    "    'how old are you\\ni am three'.split(),  # document 1: reference 2\n",
    "], [\n",
    "    'it is sunny today\\nlet us go for a walk'.split(),  # document 2: reference 1\n",
    "    'it is a terrible day\\nwe lost the game'.split(),  # document 2: reference 2\n",
    "]]"
   ]
  },
  {
   "cell_type": "code",
   "execution_count": 15,
   "metadata": {},
   "outputs": [
    {
     "data": {
      "text/plain": [
       "[['how', 'are', 'you', 'i', 'am', 'fine'],\n",
       " ['it', 'is', 'fine', 'today', 'we', 'won', 'the', 'football', 'game']]"
      ]
     },
     "execution_count": 15,
     "metadata": {},
     "output_type": "execute_result"
    }
   ],
   "source": [
    "hypotheses # 2 x whatever"
   ]
  },
  {
   "cell_type": "code",
   "execution_count": 17,
   "metadata": {},
   "outputs": [
    {
     "data": {
      "text/plain": [
       "[[['how', 'do', 'you', 'do', 'fine', 'thanks'],\n",
       "  ['how', 'old', 'are', 'you', 'i', 'am', 'three']],\n",
       " [['it', 'is', 'sunny', 'today', 'let', 'us', 'go', 'for', 'a', 'walk'],\n",
       "  ['it', 'is', 'a', 'terrible', 'day', 'we', 'lost', 'the', 'game']]]"
      ]
     },
     "execution_count": 17,
     "metadata": {},
     "output_type": "execute_result"
    }
   ],
   "source": [
    "references # 2 x 2 x whatever"
   ]
  },
  {
   "cell_type": "code",
   "execution_count": null,
   "metadata": {},
   "outputs": [],
   "source": []
  }
 ],
 "metadata": {
  "kernelspec": {
   "display_name": "Python 3",
   "language": "python",
   "name": "python3"
  },
  "language_info": {
   "codemirror_mode": {
    "name": "ipython",
    "version": 3
   },
   "file_extension": ".py",
   "mimetype": "text/x-python",
   "name": "python",
   "nbconvert_exporter": "python",
   "pygments_lexer": "ipython3",
   "version": "3.8.5"
  }
 },
 "nbformat": 4,
 "nbformat_minor": 4
}
